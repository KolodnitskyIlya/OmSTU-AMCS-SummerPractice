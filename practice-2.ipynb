{
 "cells": [
  {
   "cell_type": "code",
   "execution_count": 102,
   "metadata": {
    "dotnet_interactive": {
     "language": "csharp"
    },
    "polyglot_notebook": {
     "kernelName": "csharp"
    }
   },
   "outputs": [],
   "source": [
    "using System;\n",
    "using System.Threading;\n",
    "\n",
    "class DefiniteIntegral\n",
    "{\n",
    "    public static double Solve(double a, double b, Func<double, double> function, double step, int threadsNumber)\n",
    "    {\n",
    "        double result = 0.0;\n",
    "        double intervalWidth = (b - a) / threadsNumber;\n",
    "        ManualResetEvent[] doneThread = new ManualResetEvent[threadsNumber];\n",
    "\n",
    "        for (int i = 0; i < threadsNumber; i++)\n",
    "        {\n",
    "            doneThread[i] = new ManualResetEvent(false);\n",
    "            int threadIndex = i;\n",
    "            ThreadPool.QueueUserWorkItem((state) =>\n",
    "            {\n",
    "                double startPoint = a + threadIndex * intervalWidth;\n",
    "                double endPoint = startPoint + intervalWidth;\n",
    "                double sum = (function(startPoint) + function(endPoint)) / 2.0;\n",
    "\n",
    "                for (double x = startPoint + step; x < endPoint; x += step)\n",
    "                {\n",
    "                    sum += function(x);\n",
    "                }\n",
    "\n",
    "                sum *= step;\n",
    "                result += sum;\n",
    "                doneThread[threadIndex].Set(); \n",
    "            });\n",
    "        }\n",
    "\n",
    "        WaitHandle.WaitAll(doneThread); \n",
    "\n",
    "        return result;\n",
    "    }\n",
    "}"
   ]
  },
  {
   "cell_type": "code",
   "execution_count": 104,
   "metadata": {},
   "outputs": [
    {
     "data": {
      "text/html": [
       "<div><div></div><div></div><div><strong>Installed Packages</strong><ul><li><span>xunit, 2.8.1</span></li></ul></div></div>"
      ]
     },
     "metadata": {},
     "output_type": "display_data"
    },
    {
     "ename": "Error",
     "evalue": "Xunit.Sdk.EqualException: Assert.Equal() Failure: Values are not within tolerance 1,0000000000000001E-05\nExpected: 50\nActual:   50,000019999674024\n   at Xunit.Assert.Equal(Double expected, Double actual, Double tolerance) in /_/src/xunit.assert/Asserts/EqualityAsserts.cs:line 352\n   at Submission#105.<<Initialize>>d__0.MoveNext()\n--- End of stack trace from previous location ---\n   at Microsoft.CodeAnalysis.Scripting.ScriptExecutionState.RunSubmissionsAsync[TResult](ImmutableArray`1 precedingExecutors, Func`2 currentExecutor, StrongBox`1 exceptionHolderOpt, Func`2 catchExceptionOpt, CancellationToken cancellationToken)",
     "output_type": "error",
     "traceback": [
      "Xunit.Sdk.EqualException: Assert.Equal() Failure: Values are not within tolerance 1,0000000000000001E-05\n",
      "Expected: 50\n",
      "Actual:   50,000019999674024\n",
      "   at Xunit.Assert.Equal(Double expected, Double actual, Double tolerance) in /_/src/xunit.assert/Asserts/EqualityAsserts.cs:line 352\n",
      "   at Submission#105.<<Initialize>>d__0.MoveNext()\n",
      "--- End of stack trace from previous location ---\n",
      "   at Microsoft.CodeAnalysis.Scripting.ScriptExecutionState.RunSubmissionsAsync[TResult](ImmutableArray`1 precedingExecutors, Func`2 currentExecutor, StrongBox`1 exceptionHolderOpt, Func`2 catchExceptionOpt, CancellationToken cancellationToken)"
     ]
    }
   ],
   "source": [
    "#r \"nuget: xunit, 2.8.1\"\n",
    "\n",
    "using Xunit;\n",
    "\n",
    "var X = (double x) => x;\n",
    "var SIN = (double x) => Math.Sin(x);\n",
    "\n",
    "Assert.Equal(0, DefiniteIntegral.Solve(-1, 1, X, 1e-4, 2), 1e-4);\n",
    "\n",
    "Assert.Equal(0, DefiniteIntegral.Solve(-1, 1, SIN, 1e-5, 8), 1e-4);\n",
    "\n",
    "Assert.Equal(50, DefiniteIntegral.Solve(0, 10, X, 1e-6, 8), 1e-5);"
   ]
  }
 ],
 "metadata": {
  "kernelspec": {
   "display_name": ".NET (C#)",
   "language": "C#",
   "name": ".net-csharp"
  },
  "polyglot_notebook": {
   "kernelInfo": {
    "defaultKernelName": "csharp",
    "items": [
     {
      "aliases": [],
      "languageName": "csharp",
      "name": "csharp"
     }
    ]
   }
  }
 },
 "nbformat": 4,
 "nbformat_minor": 2
}
