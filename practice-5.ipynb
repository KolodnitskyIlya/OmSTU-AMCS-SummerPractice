{
 "cells": [
  {
   "cell_type": "code",
   "execution_count": 1,
   "metadata": {
    "dotnet_interactive": {
     "language": "csharp"
    },
    "polyglot_notebook": {
     "kernelName": "csharp"
    }
   },
   "outputs": [
    {
     "data": {
      "text/html": [
       "<div><div></div><div></div><div><strong>Installed Packages</strong><ul><li><span>xunit, 2.8.1</span></li></ul></div></div>"
      ]
     },
     "metadata": {},
     "output_type": "display_data"
    }
   ],
   "source": [
    "#r \"nuget: xunit, 2.8.1\"\n",
    "using System.Threading;\n",
    "using Xunit;\n",
    "\n",
    "class Message\n",
    "{\n",
    "    static int messageHandled = 0;\n",
    "    int id;\n",
    "    public Message()\n",
    "    {\n",
    "        id = Thread.CurrentThread.ManagedThreadId;\n",
    "    }\n",
    "\n",
    "    public void Handle()\n",
    "    {\n",
    "        Interlocked.Increment(ref messageHandled);\n",
    "        Assert.NotEqual(id, Thread.CurrentThread.ManagedThreadId);\n",
    "    }\n",
    "\n",
    "    public static void Check()\n",
    "    {\n",
    "        Assert.Equal(200, messageHandled);\n",
    "    }\n",
    "}"
   ]
  },
  {
   "cell_type": "code",
   "execution_count": 3,
   "metadata": {},
   "outputs": [
    {
     "name": "stdout",
     "output_type": "stream",
     "text": [
      "Failed to take message from queue1\n",
      "Took message from queue2\n"
     ]
    }
   ],
   "source": [
    "using System.Collections.Concurrent;\n",
    "\n",
    "var queue1 = new BlockingCollection<Message>(2); \n",
    "var queue2 = new BlockingCollection<Message>(2); \n",
    "\n",
    "//queue1.Add(new Message());\n",
    "queue2.Add(new Message());\n",
    "\n",
    "var ping = Task.Run(() => ProcessMessages(queue2, queue1));\n",
    "var pong = Task.Run(() => ProcessMessages(queue1, queue2));\n",
    "\n",
    "Task.WaitAll(ping, pong);\n",
    "\n",
    "Message message;\n",
    "\n",
    "if (queue1.TryTake(out message))\n",
    "{\n",
    "    Console.WriteLine(\"Took message from queue1\");\n",
    "}\n",
    "else\n",
    "{\n",
    "    Console.WriteLine(\"Failed to take message from queue1\");\n",
    "}\n",
    "\n",
    "if (queue2.TryTake(out message))\n",
    "{\n",
    "    Console.WriteLine(\"Took message from queue2\");\n",
    "}\n",
    "else\n",
    "{\n",
    "    Console.WriteLine(\"Failed to take message from queue2\");\n",
    "}\n",
    "\n",
    "static void ProcessMessages(BlockingCollection<Message> inputQueue, BlockingCollection<Message> outputQueue)\n",
    "{\n",
    "    for (int i = 0; i < 100; i++)\n",
    "    {\n",
    "        inputQueue.Take().Handle();\n",
    "        outputQueue.Add(new Message());\n",
    "    }\n",
    "}"
   ]
  },
  {
   "cell_type": "code",
   "execution_count": 4,
   "metadata": {},
   "outputs": [],
   "source": [
    "Assert.Equal(0, queue1.Count);\n",
    "Assert.Equal(0, queue2.Count);\n",
    "Message.Check();"
   ]
  }
 ],
 "metadata": {
  "kernelspec": {
   "display_name": ".NET (C#)",
   "language": "C#",
   "name": ".net-csharp"
  },
  "polyglot_notebook": {
   "kernelInfo": {
    "defaultKernelName": "csharp",
    "items": [
     {
      "aliases": [],
      "languageName": "csharp",
      "name": "csharp"
     }
    ]
   }
  }
 },
 "nbformat": 4,
 "nbformat_minor": 2
}
