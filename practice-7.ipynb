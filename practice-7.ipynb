{
 "cells": [
  {
   "cell_type": "code",
   "execution_count": 18,
   "metadata": {},
   "outputs": [],
   "source": [
    "using System;\n",
    "using System.Collections.Generic;\n",
    "using System.Threading;"
   ]
  },
  {
   "cell_type": "code",
   "execution_count": 19,
   "metadata": {},
   "outputs": [],
   "source": [
    "public interface ICommand\n",
    "{\n",
    "    void Execute();\n",
    "}"
   ]
  },
  {
   "cell_type": "code",
   "execution_count": 23,
   "metadata": {},
   "outputs": [],
   "source": [
    "public class ServerThread\n",
    "{\n",
    "    private Queue<ICommand> commandQueue = new Queue<ICommand>();\n",
    "    private Thread thread;\n",
    "\n",
    "    public void AddCommand(ICommand command)\n",
    "    {\n",
    "        lock (commandQueue)\n",
    "        {\n",
    "            commandQueue.Enqueue(command);\n",
    "            Monitor.Pulse(commandQueue);\n",
    "        }\n",
    "    }\n",
    "\n",
    "    public ServerThread()\n",
    "    {\n",
    "        thread = new Thread(Run);\n",
    "        thread.Start();\n",
    "    }\n",
    "\n",
    "    private void Run()\n",
    "    {\n",
    "        while (true)\n",
    "        {\n",
    "            ICommand command = null;\n",
    "            lock (commandQueue)\n",
    "            {\n",
    "                while (commandQueue.Count == 0)\n",
    "                {\n",
    "                    Monitor.Wait(commandQueue);\n",
    "                }\n",
    "                command = commandQueue.Dequeue();\n",
    "            }\n",
    "\n",
    "            if (command != null)\n",
    "            {\n",
    "                try\n",
    "                {\n",
    "                    command.Execute();\n",
    "                }\n",
    "                catch (Exception ex)\n",
    "                {\n",
    "                    ExceptionHandler.HandleException(ex, command);\n",
    "                }\n",
    "            }\n",
    "        }\n",
    "    }\n",
    "}"
   ]
  },
  {
   "cell_type": "code",
   "execution_count": 20,
   "metadata": {},
   "outputs": [],
   "source": [
    "public class HardStopCommand : ICommand\n",
    "{\n",
    "    public void Execute()\n",
    "    {\n",
    "        if (Thread.CurrentThread == Program.serverThread)\n",
    "        {\n",
    "            Environment.Exit(0);\n",
    "        }\n",
    "        else\n",
    "        {\n",
    "            throw new InvalidOperationException(\"HardStop может быть выполнен только в том потоке, который он должен остановить.\");\n",
    "        }\n",
    "    }\n",
    "}"
   ]
  },
  {
   "cell_type": "code",
   "execution_count": 21,
   "metadata": {},
   "outputs": [],
   "source": [
    "public class SoftStopCommand : ICommand\n",
    "{\n",
    "    public void Execute()\n",
    "    {\n",
    "        if (Thread.CurrentThread == Program.serverThread)\n",
    "        {\n",
    "            Environment.Exit(0);\n",
    "        }\n",
    "        else\n",
    "        {\n",
    "            throw new InvalidOperationException(\"SoftStop может быть выполнен только в том потоке, который он должен остановить.\");\n",
    "        }\n",
    "    }\n",
    "}"
   ]
  },
  {
   "cell_type": "code",
   "execution_count": 22,
   "metadata": {},
   "outputs": [],
   "source": [
    "public static class ExceptionHandler\n",
    "{\n",
    "    public static void HandleException(Exception ex, ICommand command)\n",
    "    {\n",
    "        Console.WriteLine($\"Исключение {ex.GetType().Name} обрабатывается для получения команды: {command.GetType().Name}\");\n",
    "    }\n",
    "}"
   ]
  },
  {
   "cell_type": "code",
   "execution_count": 24,
   "metadata": {
    "dotnet_interactive": {
     "language": "csharp"
    },
    "polyglot_notebook": {
     "kernelName": "csharp"
    }
   },
   "outputs": [],
   "source": [
    "public class Program\n",
    "{\n",
    "    public static Thread serverThread;\n",
    "\n",
    "    public static void Main()\n",
    "    {\n",
    "        ServerThread server = new ServerThread();\n",
    "        serverThread = Thread.CurrentThread;\n",
    "\n",
    "        server.AddCommand(new HardStopCommand());\n",
    "        server.AddCommand(new SoftStopCommand());\n",
    "\n",
    "        Console.ReadLine(); \n",
    "    }\n",
    "}"
   ]
  }
 ],
 "metadata": {
  "kernelspec": {
   "display_name": ".NET (C#)",
   "language": "C#",
   "name": ".net-csharp"
  },
  "polyglot_notebook": {
   "kernelInfo": {
    "defaultKernelName": "csharp",
    "items": [
     {
      "aliases": [],
      "languageName": "csharp",
      "name": "csharp"
     }
    ]
   }
  }
 },
 "nbformat": 4,
 "nbformat_minor": 2
}
