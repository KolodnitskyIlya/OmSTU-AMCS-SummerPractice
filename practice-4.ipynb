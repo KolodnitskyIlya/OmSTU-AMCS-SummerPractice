{
 "cells": [
  {
   "cell_type": "code",
   "execution_count": 1,
   "metadata": {
    "dotnet_interactive": {
     "language": "csharp"
    },
    "polyglot_notebook": {
     "kernelName": "csharp"
    }
   },
   "outputs": [],
   "source": [
    "using System;\n",
    "using System.Threading;\n",
    "\n",
    "class DefiniteIntegral\n",
    "{\n",
    "    private static object lockObject = new object();\n",
    "\n",
    "    public static double Solve(double a, double b, Func<double, double> function, double step, int threadsnumber)\n",
    "    {\n",
    "        double result = 0.0;\n",
    "        double intervalWidth = (b - a) / threadsnumber;\n",
    "        ManualResetEvent[] doneThread = new ManualResetEvent[threadsnumber];\n",
    "\n",
    "        for (int i = 0; i < threadsnumber; i++)\n",
    "        {\n",
    "            doneThread[i] = new ManualResetEvent(false);\n",
    "            int threadIndex = i;\n",
    "            ThreadPool.QueueUserWorkItem((state) =>\n",
    "            {\n",
    "                double startPoint = a + threadIndex * intervalWidth;\n",
    "                double endPoint = startPoint + intervalWidth;\n",
    "                double sum = (function(startPoint) + function(endPoint)) / 2.0;\n",
    "\n",
    "                for (double x = startPoint + step / 2; x < endPoint; x += step / 2)\n",
    "                {\n",
    "                    sum += function(x);\n",
    "                }\n",
    "\n",
    "                sum *= step / 2;\n",
    "\n",
    "                lock (lockObject)\n",
    "                {\n",
    "                    result += sum;\n",
    "                }\n",
    "\n",
    "                doneThread[threadIndex].Set();\n",
    "            });\n",
    "        }\n",
    "\n",
    "        WaitHandle.WaitAll(doneThread);\n",
    "\n",
    "        return result;\n",
    "    }\n",
    "\n",
    "    public static double SolveNoMulti(double a, double b, Func<double, double> function, double step)\n",
    "    {\n",
    "        int n = Convert.ToInt32((b - a) / step);\n",
    "\n",
    "        double result = function(a) + function(b);\n",
    "        for (int i = 0; i < n; i++)\n",
    "            result += 2 * function((double)(a + i * step));\n",
    "\n",
    "        return result * (step / 2);\n",
    "    }\n",
    "}"
   ]
  },
  {
   "cell_type": "code",
   "execution_count": 2,
   "metadata": {},
   "outputs": [
    {
     "data": {
      "text/html": [
       "<div><div></div><div></div><div><strong>Installed Packages</strong><ul><li><span>xunit, 2.8.1</span></li></ul></div></div>"
      ]
     },
     "metadata": {},
     "output_type": "display_data"
    }
   ],
   "source": [
    "#r \"nuget: xunit, 2.8.1\"\n",
    "\n",
    "using Xunit;\n",
    "\n",
    "var X = (double x) => x;\n",
    "var SIN = (double x) => Math.Sin(x);\n",
    "\n",
    "Assert.Equal(0, DefiniteIntegral.Solve(-1, 1, X, 1e-4, 2), 1e-4);\n",
    "\n",
    "Assert.Equal(0, DefiniteIntegral.Solve(-1, 1, SIN, 1e-5, 8), 1e-4);\n",
    "\n",
    "Assert.Equal(50, DefiniteIntegral.Solve(0, 10, X, 1e-6, 8), 1e-5);"
   ]
  },
  {
   "cell_type": "code",
   "execution_count": 6,
   "metadata": {
    "dotnet_interactive": {
     "language": "csharp"
    },
    "polyglot_notebook": {
     "kernelName": "csharp"
    }
   },
   "outputs": [
    {
     "data": {
      "text/html": [
       "<div><div></div><div></div><div><strong>Installed Packages</strong><ul><li><span>ScottPlot, 5.0.36</span></li></ul></div></div>"
      ]
     },
     "metadata": {},
     "output_type": "display_data"
    },
    {
     "name": "stdout",
     "output_type": "stream",
     "text": [
      "0 потоков - 15ms - 100%\n",
      "1 поток - 35ms - 223,9%\n",
      "2 потока - 18ms - 117,61%\n",
      "3 потока - 12ms - 77,36%\n",
      "4 потока - 9ms - 60,38%\n",
      "5 потоков - 8ms - 55,97%\n",
      "6 потоков - 8ms - 52,2%\n",
      "7 потоков - 7ms - 49,06%\n",
      "8 потоков - 7ms - 44,03%\n",
      "9 потоков - 8ms - 52,83%\n",
      "10 потоков - 7ms - 49,06%\n",
      "11 потоков - 6ms - 43,4%\n",
      "12 потоков - 10ms - 65,41%\n",
      "13 потоков - 8ms - 50,94%\n",
      "14 потоков - 6ms - 42,77%\n",
      "15 потоков - 6ms - 42,77%\n",
      "16 потоков - 7ms - 47,17%\n",
      "17 потоков - 7ms - 49,06%\n",
      "18 потоков - 9ms - 61,01%\n",
      "19 потоков - 7ms - 49,06%\n",
      "20 потоков - 9ms - 59,12%\n",
      "21 поток - 8ms - 52,2%\n",
      "22 потока - 6ms - 43,4%\n",
      "23 потока - 6ms - 40,25%\n",
      "24 потока - 6ms - 40,88%\n",
      "25 потоков - 6ms - 40,25%\n",
      "26 потоков - 6ms - 38,99%\n",
      "27 потоков - 6ms - 40,25%\n",
      "28 потоков - 6ms - 38,99%\n",
      "29 потоков - 6ms - 38,36%\n",
      "30 потоков - 6ms - 39,62%\n",
      "31 поток - 8ms - 54,09%\n",
      "32 потока - 6ms - 37,74%\n",
      "33 потока - 6ms - 39,62%\n",
      "34 потока - 6ms - 39,62%\n",
      "35 потоков - 6ms - 38,99%\n",
      "36 потоков - 6ms - 41,51%\n",
      "37 потоков - 6ms - 39,62%\n",
      "38 потоков - 7ms - 44,65%\n",
      "39 потоков - 6ms - 39,62%\n",
      "40 потоков - 6ms - 39,62%\n",
      "41 поток - 6ms - 40,25%\n",
      "42 потока - 6ms - 37,74%\n",
      "43 потока - 5ms - 37,11%\n",
      "44 потока - 5ms - 36,48%\n",
      "45 потоков - 6ms - 40,25%\n",
      "46 потоков - 6ms - 39,62%\n",
      "47 потоков - 6ms - 39,62%\n",
      "48 потоков - 6ms - 38,99%\n",
      "49 потоков - 6ms - 37,74%\n",
      "50 потоков - 6ms - 39,62%\n",
      "\n",
      "0 потоков - 15ms - 100%\n",
      "50 потоков - 6ms - 39,62%\n"
     ]
    },
    {
     "data": {
      "text/html": [
       "<img src=\"data:image/png;base64,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\"></img>"
      ]
     },
     "metadata": {},
     "output_type": "display_data"
    }
   ],
   "source": [
    "#r \"nuget:ScottPlot, 5.0.36\"\n",
    "using System;\n",
    "using System.Diagnostics;\n",
    "using System.Linq;\n",
    "using Microsoft.DotNet.Interactive.Formatting;\n",
    "\n",
    "class DefiniteIntegralOneThread\n",
    "{\n",
    "    public static double Solve(double a, double b, Func<double, double> function, double step)\n",
    "    {\n",
    "        double result = 0.0;\n",
    "        result += (function.Invoke(a) + function.Invoke(b)) / 2;\n",
    "\n",
    "        int steps = (int)Math.Round((b - a) / step);\n",
    "        for (int i = 1; i < steps; i++)\n",
    "        {\n",
    "            result += function.Invoke(a + i * step);\n",
    "        }\n",
    "\n",
    "        return result * step;\n",
    "    }\n",
    "}\n",
    "\n",
    "\n",
    "public static string NumWord(int value, string[] words)\n",
    "{\n",
    "    value = Math.Abs(value) % 100;\n",
    "    int num = value % 10;\n",
    "    if (value > 10 && value < 20) return words[2];\n",
    "    if (num > 1 && num < 5) return words[1];\n",
    "    if (num == 1) return words[0];\n",
    "    return words[2];\n",
    "}\n",
    "\n",
    "Formatter.Register(\n",
    "    typeof(ScottPlot.Plot), \n",
    "    (p, w) => w.Write(((ScottPlot.Plot)p).GetImageHtml(400, 300)), \n",
    "    HtmlFormatter.MimeType\n",
    ");\n",
    "\n",
    "int maxThreadCount = 51;\n",
    "int callCount = 10;\n",
    "\n",
    "int[] elapsedMillisecondsForThreads = new int[maxThreadCount];\n",
    "int[] threadCounts = new int[maxThreadCount];\n",
    "\n",
    "for (int currentThreadCount = 0; currentThreadCount < maxThreadCount; currentThreadCount++)\n",
    "{\n",
    "    threadCounts[currentThreadCount] = currentThreadCount;\n",
    "\n",
    "    Stopwatch timer = new Stopwatch();\n",
    "\n",
    "    for (int currentCall = 0; currentCall < callCount; currentCall++)\n",
    "    {\n",
    "        timer.Start();\n",
    "\n",
    "        double result = currentThreadCount == 0\n",
    "            ? DefiniteIntegralOneThread.Solve(-100, 100, SIN, 1e-4)\n",
    "            : DefiniteIntegral.Solve(-100, 100, SIN, 1e-4, currentThreadCount);\n",
    "\n",
    "        timer.Stop();\n",
    "    }\n",
    "\n",
    "    elapsedMillisecondsForThreads[currentThreadCount] = (int)timer.ElapsedMilliseconds;\n",
    "}\n",
    "\n",
    "ScottPlot.Plot plt = new();\n",
    "plt.Add.Scatter(\n",
    "    elapsedMillisecondsForThreads.Select(m => m / callCount).ToArray(), \n",
    "    threadCounts.Select(t => t == 1 ? t + 0.1 : t == 2 ? t + 0.2 : t).ToArray()\n",
    ");\n",
    "\n",
    "plt.XLabel(\"TIME\");\n",
    "plt.YLabel(\"COUNT\");\n",
    "\n",
    "string[] wordForms = {\"поток\", \"потока\", \"потоков\"};\n",
    "\n",
    "for (int i = 0; i < maxThreadCount; i++)\n",
    "{\n",
    "    string declension = NumWord(i, wordForms);\n",
    "    double percentage;\n",
    "    if (i == 0)\n",
    "    {\n",
    "        percentage = 100;\n",
    "    }\n",
    "    else\n",
    "    {\n",
    "        percentage = (double)elapsedMillisecondsForThreads[i] / elapsedMillisecondsForThreads[0] * 100;\n",
    "    }\n",
    "    Console.WriteLine($\"{i} {declension} - {elapsedMillisecondsForThreads[i] / callCount}ms - {Math.Round(percentage, 2)}%\");\n",
    "}\n",
    "\n",
    "Console.WriteLine();\n",
    "Console.WriteLine($\"0 потоков - {elapsedMillisecondsForThreads[0] / callCount}ms - 100%\");\n",
    "\n",
    "int optimalThreadCount = 50;\n",
    "string declension = NumWord(optimalThreadCount, wordForms);\n",
    "Console.WriteLine($\"{optimalThreadCount} {declension} - {elapsedMillisecondsForThreads[optimalThreadCount] / callCount}ms - {Math.Round((double)elapsedMillisecondsForThreads[optimalThreadCount] / elapsedMillisecondsForThreads[0] * 100, 2)}%\");\n",
    "\n",
    "plt"
   ]
  },
  {
   "cell_type": "markdown",
   "metadata": {},
   "source": [
    "## Summary\n",
    "\n",
    "**Выбранный шаг: 1e-4**\n",
    "\n",
    "**Оптимальное кол-во потоков: 10**     \n",
    "**Средняя скорость быстрее однопоточного вычисления на 81,3%**\n"
   ]
  }
 ],
 "metadata": {
  "kernelspec": {
   "display_name": ".NET (C#)",
   "language": "C#",
   "name": ".net-csharp"
  },
  "polyglot_notebook": {
   "kernelInfo": {
    "defaultKernelName": "csharp",
    "items": [
     {
      "aliases": [],
      "languageName": "csharp",
      "name": "csharp"
     }
    ]
   }
  }
 },
 "nbformat": 4,
 "nbformat_minor": 2
}
