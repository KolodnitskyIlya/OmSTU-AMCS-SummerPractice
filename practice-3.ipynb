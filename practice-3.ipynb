{
 "cells": [
  {
   "cell_type": "code",
   "execution_count": 110,
   "metadata": {
    "dotnet_interactive": {
     "language": "csharp"
    },
    "polyglot_notebook": {
     "kernelName": "csharp"
    }
   },
   "outputs": [],
   "source": [
    "using System;\n",
    "using System.Threading;\n",
    "\n",
    "class DefiniteIntegral\n",
    "{\n",
    "    private static object lockObject = new object();\n",
    "\n",
    "    public static double Solve(double a, double b, Func<double, double> function, double step, int threadsnumber)\n",
    "    {\n",
    "        double result = 0.0;\n",
    "        double intervalWidth = (b - a) / threadsnumber;\n",
    "        ManualResetEvent[] doneThread = new ManualResetEvent[threadsnumber];\n",
    "\n",
    "        for (int i = 0; i < threadsnumber; i++)\n",
    "        {\n",
    "            doneThread[i] = new ManualResetEvent(false);\n",
    "            int threadIndex = i;\n",
    "            ThreadPool.QueueUserWorkItem((state) =>\n",
    "            {\n",
    "                double startPoint = a + threadIndex * intervalWidth;\n",
    "                double endPoint = startPoint + intervalWidth;\n",
    "                double sum = (function(startPoint) + function(endPoint)) / 2.0;\n",
    "\n",
    "                for (double x = startPoint + step / 2; x < endPoint; x += step / 2)\n",
    "                {\n",
    "                    sum += function(x);\n",
    "                }\n",
    "\n",
    "                sum *= step / 2;\n",
    "\n",
    "                lock (lockObject)\n",
    "                {\n",
    "                    result += sum;\n",
    "                }\n",
    "\n",
    "                doneThread[threadIndex].Set();\n",
    "            });\n",
    "        }\n",
    "\n",
    "        WaitHandle.WaitAll(doneThread);\n",
    "\n",
    "        return result;\n",
    "    }\n",
    "}"
   ]
  },
  {
   "cell_type": "code",
   "execution_count": 111,
   "metadata": {
    "dotnet_interactive": {
     "language": "csharp"
    },
    "polyglot_notebook": {
     "kernelName": "csharp"
    }
   },
   "outputs": [
    {
     "data": {
      "text/html": [
       "<div><div></div><div></div><div><strong>Installed Packages</strong><ul><li><span>xunit, 2.8.1</span></li></ul></div></div>"
      ]
     },
     "metadata": {},
     "output_type": "display_data"
    }
   ],
   "source": [
    "#r \"nuget: xunit, 2.8.1\"\n",
    "\n",
    "using Xunit;\n",
    "\n",
    "var X = (double x) => x;\n",
    "var SIN = (double x) => Math.Sin(x);\n",
    "\n",
    "Assert.Equal(0, DefiniteIntegral.Solve(-1, 1, X, 1e-4, 2), 1e-4);\n",
    "\n",
    "Assert.Equal(0, DefiniteIntegral.Solve(-1, 1, SIN, 1e-5, 8), 1e-4);\n",
    "\n",
    "Assert.Equal(50, DefiniteIntegral.Solve(0, 10, X, 1e-6, 8), 1e-5);"
   ]
  }
 ],
 "metadata": {
  "kernelspec": {
   "display_name": ".NET (C#)",
   "language": "C#",
   "name": ".net-csharp"
  },
  "polyglot_notebook": {
   "kernelInfo": {
    "defaultKernelName": "csharp",
    "items": [
     {
      "aliases": [],
      "languageName": "csharp",
      "name": "csharp"
     }
    ]
   }
  }
 },
 "nbformat": 4,
 "nbformat_minor": 2
}
